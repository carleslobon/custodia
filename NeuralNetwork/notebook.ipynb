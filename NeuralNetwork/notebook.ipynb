{
 "cells": [
  {
   "cell_type": "code",
   "execution_count": 14,
   "metadata": {},
   "outputs": [],
   "source": [
    "import pandas as pd\n",
    "import numpy as np\n",
    "from sklearn.preprocessing import StandardScaler, OneHotEncoder\n",
    "from sklearn.compose import ColumnTransformer\n",
    "from sklearn.pipeline import Pipeline\n",
    "from sklearn.model_selection import train_test_split\n",
    "import tensorflow as tf\n",
    "from tensorflow.keras.models import Sequential\n",
    "from tensorflow.keras.layers import Dense\n",
    "from tensorflow.keras.utils import to_categorical\n",
    "from tensorflow.keras.layers import Dropout\n",
    "from pandas import DataFrame\n",
    "import ipaddress"
   ]
  },
  {
   "cell_type": "code",
   "execution_count": 15,
   "metadata": {},
   "outputs": [],
   "source": [
    "# Define file path and chunk size\n",
    "file_path = \"/mnt/c/Users/mikig/Desktop/UPC/PAE/Datasets/9810e03bba4983da_MOHANAD_A4706/9810e03bba4983da_MOHANAD_A4706/data/NF-UQ-NIDS-v2.csv\"\n",
    "chunk_size = 10000  # Adjust based on your system's memory capacity\n",
    "nrows = 50000"
   ]
  },
  {
   "cell_type": "code",
   "execution_count": 16,
   "metadata": {},
   "outputs": [
    {
     "name": "stdout",
     "output_type": "stream",
     "text": [
      "<class 'pandas.core.frame.DataFrame'>\n",
      "RangeIndex: 50000 entries, 0 to 49999\n",
      "Data columns (total 46 columns):\n",
      " #   Column                       Non-Null Count  Dtype  \n",
      "---  ------                       --------------  -----  \n",
      " 0   IPV4_SRC_ADDR                50000 non-null  object \n",
      " 1   L4_SRC_PORT                  50000 non-null  int64  \n",
      " 2   IPV4_DST_ADDR                50000 non-null  object \n",
      " 3   L4_DST_PORT                  50000 non-null  int64  \n",
      " 4   PROTOCOL                     50000 non-null  int64  \n",
      " 5   L7_PROTO                     50000 non-null  float64\n",
      " 6   IN_BYTES                     50000 non-null  int64  \n",
      " 7   IN_PKTS                      50000 non-null  int64  \n",
      " 8   OUT_BYTES                    50000 non-null  int64  \n",
      " 9   OUT_PKTS                     50000 non-null  int64  \n",
      " 10  TCP_FLAGS                    50000 non-null  int64  \n",
      " 11  CLIENT_TCP_FLAGS             50000 non-null  int64  \n",
      " 12  SERVER_TCP_FLAGS             50000 non-null  int64  \n",
      " 13  FLOW_DURATION_MILLISECONDS   50000 non-null  int64  \n",
      " 14  DURATION_IN                  50000 non-null  int64  \n",
      " 15  DURATION_OUT                 50000 non-null  int64  \n",
      " 16  MIN_TTL                      50000 non-null  int64  \n",
      " 17  MAX_TTL                      50000 non-null  int64  \n",
      " 18  LONGEST_FLOW_PKT             50000 non-null  int64  \n",
      " 19  SHORTEST_FLOW_PKT            50000 non-null  int64  \n",
      " 20  MIN_IP_PKT_LEN               50000 non-null  int64  \n",
      " 21  MAX_IP_PKT_LEN               50000 non-null  int64  \n",
      " 22  SRC_TO_DST_SECOND_BYTES      50000 non-null  float64\n",
      " 23  DST_TO_SRC_SECOND_BYTES      50000 non-null  float64\n",
      " 24  RETRANSMITTED_IN_BYTES       50000 non-null  int64  \n",
      " 25  RETRANSMITTED_IN_PKTS        50000 non-null  int64  \n",
      " 26  RETRANSMITTED_OUT_BYTES      50000 non-null  int64  \n",
      " 27  RETRANSMITTED_OUT_PKTS       50000 non-null  int64  \n",
      " 28  SRC_TO_DST_AVG_THROUGHPUT    50000 non-null  int64  \n",
      " 29  DST_TO_SRC_AVG_THROUGHPUT    50000 non-null  int64  \n",
      " 30  NUM_PKTS_UP_TO_128_BYTES     50000 non-null  int64  \n",
      " 31  NUM_PKTS_128_TO_256_BYTES    50000 non-null  int64  \n",
      " 32  NUM_PKTS_256_TO_512_BYTES    50000 non-null  int64  \n",
      " 33  NUM_PKTS_512_TO_1024_BYTES   50000 non-null  int64  \n",
      " 34  NUM_PKTS_1024_TO_1514_BYTES  50000 non-null  int64  \n",
      " 35  TCP_WIN_MAX_IN               50000 non-null  int64  \n",
      " 36  TCP_WIN_MAX_OUT              50000 non-null  int64  \n",
      " 37  ICMP_TYPE                    50000 non-null  int64  \n",
      " 38  ICMP_IPV4_TYPE               50000 non-null  int64  \n",
      " 39  DNS_QUERY_ID                 50000 non-null  int64  \n",
      " 40  DNS_QUERY_TYPE               50000 non-null  int64  \n",
      " 41  DNS_TTL_ANSWER               50000 non-null  int64  \n",
      " 42  FTP_COMMAND_RET_CODE         50000 non-null  float64\n",
      " 43  Label                        50000 non-null  int64  \n",
      " 44  Attack                       50000 non-null  object \n",
      " 45  Dataset                      50000 non-null  object \n",
      "dtypes: float64(4), int64(38), object(4)\n",
      "memory usage: 17.5+ MB\n"
     ]
    }
   ],
   "source": [
    "ds = pd.read_csv(file_path, nrows=nrows)\n",
    "\n",
    "ds.info()"
   ]
  },
  {
   "cell_type": "code",
   "execution_count": 17,
   "metadata": {},
   "outputs": [],
   "source": [
    "def ip_to_long(ip):\n",
    "    \"\"\"\n",
    "    Convert an IP address to its concatenated zero-padded octet integer representation.\n",
    "\n",
    "    Args:\n",
    "        ip (str): IP address in string format.\n",
    "\n",
    "    Returns:\n",
    "        int: Integer representation of the concatenated zero-padded octets.\n",
    "    \"\"\"\n",
    "    try:\n",
    "        return int(\"\".join([octet.zfill(3) for octet in ip.split(\".\")]))\n",
    "        # Split the IP address into octets\n",
    "        octets = ip.split(\".\")\n",
    "        # Zero-pad each octet to ensure three digits\n",
    "        padded_octets = [octet.zfill(3) for octet in octets]\n",
    "        # Concatenate the padded octets into a single string\n",
    "        concatenated = \"\".join(padded_octets)\n",
    "        # Convert the concatenated string to an integer\n",
    "        return int(concatenated)\n",
    "    except ValueError:\n",
    "        return 0  # Handle invalid IPs by returning 0"
   ]
  },
  {
   "cell_type": "code",
   "execution_count": 18,
   "metadata": {},
   "outputs": [
    {
     "name": "stdout",
     "output_type": "stream",
     "text": [
      "<class 'pandas.core.frame.DataFrame'>\n",
      "RangeIndex: 50000 entries, 0 to 49999\n",
      "Data columns (total 46 columns):\n",
      " #   Column                       Non-Null Count  Dtype  \n",
      "---  ------                       --------------  -----  \n",
      " 0   IPV4_SRC_ADDR                50000 non-null  int64  \n",
      " 1   L4_SRC_PORT                  50000 non-null  int64  \n",
      " 2   IPV4_DST_ADDR                50000 non-null  int64  \n",
      " 3   L4_DST_PORT                  50000 non-null  int64  \n",
      " 4   PROTOCOL                     50000 non-null  int64  \n",
      " 5   L7_PROTO                     50000 non-null  float64\n",
      " 6   IN_BYTES                     50000 non-null  int64  \n",
      " 7   IN_PKTS                      50000 non-null  int64  \n",
      " 8   OUT_BYTES                    50000 non-null  int64  \n",
      " 9   OUT_PKTS                     50000 non-null  int64  \n",
      " 10  TCP_FLAGS                    50000 non-null  int64  \n",
      " 11  CLIENT_TCP_FLAGS             50000 non-null  int64  \n",
      " 12  SERVER_TCP_FLAGS             50000 non-null  int64  \n",
      " 13  FLOW_DURATION_MILLISECONDS   50000 non-null  int64  \n",
      " 14  DURATION_IN                  50000 non-null  int64  \n",
      " 15  DURATION_OUT                 50000 non-null  int64  \n",
      " 16  MIN_TTL                      50000 non-null  int64  \n",
      " 17  MAX_TTL                      50000 non-null  int64  \n",
      " 18  LONGEST_FLOW_PKT             50000 non-null  int64  \n",
      " 19  SHORTEST_FLOW_PKT            50000 non-null  int64  \n",
      " 20  MIN_IP_PKT_LEN               50000 non-null  int64  \n",
      " 21  MAX_IP_PKT_LEN               50000 non-null  int64  \n",
      " 22  SRC_TO_DST_SECOND_BYTES      50000 non-null  float64\n",
      " 23  DST_TO_SRC_SECOND_BYTES      50000 non-null  float64\n",
      " 24  RETRANSMITTED_IN_BYTES       50000 non-null  int64  \n",
      " 25  RETRANSMITTED_IN_PKTS        50000 non-null  int64  \n",
      " 26  RETRANSMITTED_OUT_BYTES      50000 non-null  int64  \n",
      " 27  RETRANSMITTED_OUT_PKTS       50000 non-null  int64  \n",
      " 28  SRC_TO_DST_AVG_THROUGHPUT    50000 non-null  int64  \n",
      " 29  DST_TO_SRC_AVG_THROUGHPUT    50000 non-null  int64  \n",
      " 30  NUM_PKTS_UP_TO_128_BYTES     50000 non-null  int64  \n",
      " 31  NUM_PKTS_128_TO_256_BYTES    50000 non-null  int64  \n",
      " 32  NUM_PKTS_256_TO_512_BYTES    50000 non-null  int64  \n",
      " 33  NUM_PKTS_512_TO_1024_BYTES   50000 non-null  int64  \n",
      " 34  NUM_PKTS_1024_TO_1514_BYTES  50000 non-null  int64  \n",
      " 35  TCP_WIN_MAX_IN               50000 non-null  int64  \n",
      " 36  TCP_WIN_MAX_OUT              50000 non-null  int64  \n",
      " 37  ICMP_TYPE                    50000 non-null  int64  \n",
      " 38  ICMP_IPV4_TYPE               50000 non-null  int64  \n",
      " 39  DNS_QUERY_ID                 50000 non-null  int64  \n",
      " 40  DNS_QUERY_TYPE               50000 non-null  int64  \n",
      " 41  DNS_TTL_ANSWER               50000 non-null  int64  \n",
      " 42  FTP_COMMAND_RET_CODE         50000 non-null  float64\n",
      " 43  Label                        50000 non-null  int64  \n",
      " 44  Attack                       50000 non-null  object \n",
      " 45  Dataset                      50000 non-null  object \n",
      "dtypes: float64(4), int64(40), object(2)\n",
      "memory usage: 17.5+ MB\n"
     ]
    }
   ],
   "source": [
    "ip_columns = [\"IPV4_SRC_ADDR\", \"IPV4_DST_ADDR\"]\n",
    "for col in ip_columns:\n",
    "    ds[col] = ds[col].apply(ip_to_long)\n",
    "\n",
    "ds.info()"
   ]
  },
  {
   "cell_type": "code",
   "execution_count": 19,
   "metadata": {},
   "outputs": [],
   "source": [
    "# Initialize lists to store processed data\n",
    "X_list = []\n",
    "y_list = []\n",
    "\n",
    "ip_columns = [\"IPV4_SRC_ADDR\", \"IPV4_DST_ADDR\"]\n",
    "\n",
    "# Process data in chunks\n",
    "for chunk_id, chunk in enumerate(\n",
    "    pd.read_csv(file_path, chunksize=chunk_size, nrows=nrows)\n",
    "):\n",
    "    # Drop unnecessary columns\n",
    "    chunk = chunk.drop(columns=[\"Label\", \"Dataset\"])\n",
    "\n",
    "    # Process the ip columns\n",
    "    for col in ip_columns:\n",
    "        chunk[col] = chunk[col].apply(ip_to_long)\n",
    "\n",
    "    # Separate features and target\n",
    "    X_chunk = chunk.drop(columns=[\"Attack\"])\n",
    "    y_chunk = chunk[\"Attack\"]\n",
    "\n",
    "    # Append to lists\n",
    "    X_list.append(X_chunk)\n",
    "    y_list.append(y_chunk)\n",
    "\n",
    "# Concatenate all chunks\n",
    "X = pd.concat(X_list)\n",
    "y = pd.concat(y_list)"
   ]
  },
  {
   "cell_type": "code",
   "execution_count": 20,
   "metadata": {},
   "outputs": [],
   "source": [
    "# One-hot encode the target variable\n",
    "y = pd.get_dummies(y).values\n",
    "\n",
    "# Split data into training and testing sets\n",
    "X_train, X_test, y_train, y_test = train_test_split(\n",
    "    X, y, test_size=0.2, random_state=42\n",
    ")\n",
    "\n",
    "# Standardize the features\n",
    "scaler = StandardScaler()\n",
    "X_train = scaler.fit_transform(X_train)\n",
    "X_test = scaler.transform(X_test)"
   ]
  },
  {
   "cell_type": "code",
   "execution_count": 21,
   "metadata": {},
   "outputs": [
    {
     "name": "stderr",
     "output_type": "stream",
     "text": [
      "/home/miquel/.local/lib/python3.12/site-packages/keras/src/layers/core/dense.py:87: UserWarning: Do not pass an `input_shape`/`input_dim` argument to a layer. When using Sequential models, prefer using an `Input(shape)` object as the first layer in the model instead.\n",
      "  super().__init__(activity_regularizer=activity_regularizer, **kwargs)\n"
     ]
    }
   ],
   "source": [
    "model = Sequential()\n",
    "model.add(Dense(64, input_dim=X_train.shape[1], activation=\"relu\"))\n",
    "model.add(Dense(32, activation=\"relu\"))\n",
    "model.add(Dense(y_train.shape[1], activation=\"softmax\"))"
   ]
  },
  {
   "cell_type": "code",
   "execution_count": 22,
   "metadata": {},
   "outputs": [
    {
     "name": "stdout",
     "output_type": "stream",
     "text": [
      "Epoch 1/10\n"
     ]
    },
    {
     "name": "stderr",
     "output_type": "stream",
     "text": [
      "WARNING: All log messages before absl::InitializeLog() is called are written to STDERR\n",
      "I0000 00:00:1735382220.235223    5136 service.cc:148] XLA service 0x7f0e74004d00 initialized for platform CUDA (this does not guarantee that XLA will be used). Devices:\n",
      "I0000 00:00:1735382220.237911    5136 service.cc:156]   StreamExecutor device (0): NVIDIA GeForce RTX 3060 Laptop GPU, Compute Capability 8.6\n",
      "2024-12-28 11:37:00.291086: I tensorflow/compiler/mlir/tensorflow/utils/dump_mlir_util.cc:268] disabling MLIR crash reproducer, set env var `MLIR_CRASH_REPRODUCER_DIRECTORY` to enable.\n",
      "I0000 00:00:1735382220.469570    5136 cuda_dnn.cc:529] Loaded cuDNN version 90300\n"
     ]
    },
    {
     "name": "stdout",
     "output_type": "stream",
     "text": [
      "\u001b[1m  30/1250\u001b[0m \u001b[37m━━━━━━━━━━━━━━━━━━━━\u001b[0m \u001b[1m6s\u001b[0m 5ms/step - accuracy: 0.2283 - loss: 2.7769    "
     ]
    },
    {
     "name": "stderr",
     "output_type": "stream",
     "text": [
      "I0000 00:00:1735382222.434074    5136 device_compiler.h:188] Compiled cluster using XLA!  This line is logged at most once for the lifetime of the process.\n"
     ]
    },
    {
     "name": "stdout",
     "output_type": "stream",
     "text": [
      "\u001b[1m1250/1250\u001b[0m \u001b[32m━━━━━━━━━━━━━━━━━━━━\u001b[0m\u001b[37m\u001b[0m \u001b[1m13s\u001b[0m 8ms/step - accuracy: 0.7928 - loss: 0.8161 - val_accuracy: 0.9045 - val_loss: 15.6591\n",
      "Epoch 2/10\n",
      "\u001b[1m1250/1250\u001b[0m \u001b[32m━━━━━━━━━━━━━━━━━━━━\u001b[0m\u001b[37m\u001b[0m \u001b[1m8s\u001b[0m 6ms/step - accuracy: 0.9151 - loss: 0.2777 - val_accuracy: 0.9250 - val_loss: 18.2409\n",
      "Epoch 3/10\n",
      "\u001b[1m1250/1250\u001b[0m \u001b[32m━━━━━━━━━━━━━━━━━━━━\u001b[0m\u001b[37m\u001b[0m \u001b[1m8s\u001b[0m 6ms/step - accuracy: 0.9285 - loss: 0.2233 - val_accuracy: 0.9355 - val_loss: 18.2536\n",
      "Epoch 4/10\n",
      "\u001b[1m1250/1250\u001b[0m \u001b[32m━━━━━━━━━━━━━━━━━━━━\u001b[0m\u001b[37m\u001b[0m \u001b[1m8s\u001b[0m 6ms/step - accuracy: 0.9404 - loss: 0.1982 - val_accuracy: 0.9434 - val_loss: 18.4948\n",
      "Epoch 5/10\n",
      "\u001b[1m1250/1250\u001b[0m \u001b[32m━━━━━━━━━━━━━━━━━━━━\u001b[0m\u001b[37m\u001b[0m \u001b[1m9s\u001b[0m 7ms/step - accuracy: 0.9491 - loss: 0.1714 - val_accuracy: 0.9490 - val_loss: 22.3357\n",
      "Epoch 6/10\n",
      "\u001b[1m1250/1250\u001b[0m \u001b[32m━━━━━━━━━━━━━━━━━━━━\u001b[0m\u001b[37m\u001b[0m \u001b[1m9s\u001b[0m 7ms/step - accuracy: 0.9505 - loss: 0.1643 - val_accuracy: 0.9477 - val_loss: 16.8066\n",
      "Epoch 7/10\n",
      "\u001b[1m1250/1250\u001b[0m \u001b[32m━━━━━━━━━━━━━━━━━━━━\u001b[0m\u001b[37m\u001b[0m \u001b[1m8s\u001b[0m 6ms/step - accuracy: 0.9514 - loss: 0.1561 - val_accuracy: 0.9498 - val_loss: 18.6241\n",
      "Epoch 8/10\n",
      "\u001b[1m1250/1250\u001b[0m \u001b[32m━━━━━━━━━━━━━━━━━━━━\u001b[0m\u001b[37m\u001b[0m \u001b[1m8s\u001b[0m 6ms/step - accuracy: 0.9555 - loss: 0.1517 - val_accuracy: 0.9489 - val_loss: 20.4419\n",
      "Epoch 9/10\n",
      "\u001b[1m1250/1250\u001b[0m \u001b[32m━━━━━━━━━━━━━━━━━━━━\u001b[0m\u001b[37m\u001b[0m \u001b[1m8s\u001b[0m 6ms/step - accuracy: 0.9550 - loss: 0.1472 - val_accuracy: 0.9552 - val_loss: 20.2438\n",
      "Epoch 10/10\n",
      "\u001b[1m1250/1250\u001b[0m \u001b[32m━━━━━━━━━━━━━━━━━━━━\u001b[0m\u001b[37m\u001b[0m \u001b[1m8s\u001b[0m 6ms/step - accuracy: 0.9557 - loss: 0.1434 - val_accuracy: 0.9498 - val_loss: 19.8069\n"
     ]
    },
    {
     "data": {
      "text/plain": [
       "<keras.src.callbacks.history.History at 0x7f0f8169dca0>"
      ]
     },
     "execution_count": 22,
     "metadata": {},
     "output_type": "execute_result"
    }
   ],
   "source": [
    "# Compile the model\n",
    "model.compile(loss=\"categorical_crossentropy\", optimizer=\"adam\", metrics=[\"accuracy\"])\n",
    "\n",
    "# Train the model\n",
    "model.fit(X_train, y_train, epochs=10, batch_size=32, validation_data=(X_test, y_test))"
   ]
  },
  {
   "cell_type": "code",
   "execution_count": 23,
   "metadata": {},
   "outputs": [
    {
     "name": "stdout",
     "output_type": "stream",
     "text": [
      "\u001b[1m313/313\u001b[0m \u001b[32m━━━━━━━━━━━━━━━━━━━━\u001b[0m\u001b[37m\u001b[0m \u001b[1m2s\u001b[0m 5ms/step - accuracy: 0.9519 - loss: 3.5681\n",
      "Test Accuracy: 0.950\n"
     ]
    }
   ],
   "source": [
    "# Evaluate the model\n",
    "loss, accuracy = model.evaluate(X_test, y_test)\n",
    "print(f\"Test Accuracy: {accuracy:.3f}\")"
   ]
  }
 ],
 "metadata": {
  "kernelspec": {
   "display_name": "Python 3",
   "language": "python",
   "name": "python3"
  },
  "language_info": {
   "codemirror_mode": {
    "name": "ipython",
    "version": 3
   },
   "file_extension": ".py",
   "mimetype": "text/x-python",
   "name": "python",
   "nbconvert_exporter": "python",
   "pygments_lexer": "ipython3",
   "version": "3.12.7"
  }
 },
 "nbformat": 4,
 "nbformat_minor": 2
}
